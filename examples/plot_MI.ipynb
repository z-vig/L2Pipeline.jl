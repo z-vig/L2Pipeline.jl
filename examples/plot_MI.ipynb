{
 "cells": [
  {
   "cell_type": "code",
   "execution_count": 4,
   "metadata": {},
   "outputs": [],
   "source": [
    "using ArchGDAL\n",
    "using GLMakie\n",
    "import ArchGDAL as AG"
   ]
  },
  {
   "cell_type": "code",
   "execution_count": 27,
   "metadata": {},
   "outputs": [
    {
     "data": {
      "text/plain": [
       "GDAL Dataset (Driver: PDS/NASA Planetary Data System)\n",
       "File(s): \n",
       "  C:/Lunar_Imagery_Data/MI_data/MI_MAP_03_N37E319N36E320SC.lbl\n",
       "  C:/Lunar_Imagery_Data/MI_data\\MI_MAP_03_N37E319N36E320SC.img\n",
       "\n",
       "Dataset (width x height): 2048 x 2048 (pixels)\n",
       "Number of raster bands: 9\n",
       "  [GA_ReadOnly] Band 1 (Undefined): 2048 x 2048 (Int16)\n",
       "  [GA_ReadOnly] Band 2 (Undefined): 2048 x 2048 (Int16)\n",
       "  [GA_ReadOnly] Band 3 (Undefined): 2048 x 2048 (Int16)\n",
       "  ...\n"
      ]
     },
     "metadata": {},
     "output_type": "display_data"
    }
   ],
   "source": [
    "arr = AG.readraster(\"C:/Lunar_Imagery_Data/MI_data/MI_MAP_03_N37E319N36E320SC.lbl\")"
   ]
  },
  {
   "cell_type": "code",
   "execution_count": null,
   "metadata": {},
   "outputs": [],
   "source": []
  },
  {
   "cell_type": "code",
   "execution_count": 103,
   "metadata": {},
   "outputs": [
    {
     "name": "stdout",
     "output_type": "stream",
     "text": [
      "(2048, 2048, 9)\n"
     ]
    }
   ],
   "source": [
    "println(size(arr))"
   ]
  },
  {
   "cell_type": "code",
   "execution_count": 102,
   "metadata": {},
   "outputs": [
    {
     "data": {
      "text/plain": [
       "GLMakie.Screen(...)"
      ]
     },
     "metadata": {},
     "output_type": "display_data"
    }
   ],
   "source": [
    "f = Figure()\n",
    "ax = Axis(f[1,1],xticks=(1:9))\n",
    "# ax2 = Axis(f[1,2])\n",
    "x = rand(1:2048); y = rand(1:2048)\n",
    "lines!(ax,arr[2048,2048-23,:])\n",
    "\n",
    "# image!(ax2,arr[:,end:-1:1,9])\n",
    "# scatter!(ax2,x,2048-y)\n",
    "\n",
    "display(f)"
   ]
  },
  {
   "cell_type": "code",
   "execution_count": 22,
   "metadata": {},
   "outputs": [
    {
     "data": {
      "text/plain": [
       "true"
      ]
     },
     "metadata": {},
     "output_type": "display_data"
    }
   ],
   "source": []
  }
 ],
 "metadata": {
  "kernelspec": {
   "display_name": "Julia 1.9.4",
   "language": "julia",
   "name": "julia-1.9"
  },
  "language_info": {
   "file_extension": ".jl",
   "mimetype": "application/julia",
   "name": "julia",
   "version": "1.9.4"
  }
 },
 "nbformat": 4,
 "nbformat_minor": 2
}
