{
 "cells": [
  {
   "cell_type": "code",
   "execution_count": 1,
   "metadata": {},
   "outputs": [
    {
     "name": "stderr",
     "output_type": "stream",
     "text": [
      "\u001b[91m\u001b[1mERROR: \u001b[22m\u001b[39mLoadError: UndefVarError: `obs` not defined\n",
      "Stacktrace:\n",
      " [1] \u001b[0m\u001b[1mget_geom_fromDEM\u001b[22m\u001b[0m\u001b[1m(\u001b[22m\u001b[90mm3path\u001b[39m::\u001b[0mString, \u001b[90mslopedatapath\u001b[39m::\u001b[0mString, \u001b[90maspecdatapath\u001b[39m::\u001b[0mString\u001b[0m\u001b[1m)\u001b[22m\n",
      "\u001b[90m   @\u001b[39m \u001b[35mL2Pipeline\u001b[39m \u001b[90mc:\\Users\\zvig\\.julia\\dev\\L2Pipeline.jl\\src\\\u001b[39m\u001b[90m\u001b[4mgeometry_objects.jl:87\u001b[24m\u001b[39m\n",
      " [2] top-level scope\n",
      "\u001b[90m   @\u001b[39m \u001b[90mc:\\Users\\zvig\\.julia\\dev\\L2Pipeline.jl\\src\\\u001b[39m\u001b[90m\u001b[4mgeometry_objects.jl:102\u001b[24m\u001b[39m\n",
      " [3] \u001b[0m\u001b[1minclude\u001b[22m\u001b[0m\u001b[1m(\u001b[22m\u001b[90mmod\u001b[39m::\u001b[0mModule, \u001b[90m_path\u001b[39m::\u001b[0mString\u001b[0m\u001b[1m)\u001b[22m\n",
      "\u001b[90m   @\u001b[39m \u001b[90mBase\u001b[39m \u001b[90m.\\\u001b[39m\u001b[90m\u001b[4mBase.jl:457\u001b[24m\u001b[39m\n",
      " [4] \u001b[0m\u001b[1minclude\u001b[22m\u001b[0m\u001b[1m(\u001b[22m\u001b[90mx\u001b[39m::\u001b[0mString\u001b[0m\u001b[1m)\u001b[22m\n",
      "\u001b[90m   @\u001b[39m \u001b[35mL2Pipeline\u001b[39m \u001b[90mc:\\Users\\zvig\\.julia\\dev\\L2Pipeline.jl\\src\\\u001b[39m\u001b[90m\u001b[4mL2Pipeline.jl:7\u001b[24m\u001b[39m\n",
      " [5] top-level scope\n",
      "\u001b[90m   @\u001b[39m \u001b[90mc:\\Users\\zvig\\.julia\\dev\\L2Pipeline.jl\\src\\\u001b[39m\u001b[90m\u001b[4mL2Pipeline.jl:125\u001b[24m\u001b[39m\n",
      " [6] \u001b[0m\u001b[1minclude\u001b[22m\n",
      "\u001b[90m   @\u001b[39m \u001b[90m.\\\u001b[39m\u001b[90m\u001b[4mBase.jl:457\u001b[24m\u001b[39m\u001b[90m [inlined]\u001b[39m\n",
      " [7] \u001b[0m\u001b[1minclude_package_for_output\u001b[22m\u001b[0m\u001b[1m(\u001b[22m\u001b[90mpkg\u001b[39m::\u001b[0mBase.PkgId, \u001b[90minput\u001b[39m::\u001b[0mString, \u001b[90mdepot_path\u001b[39m::\u001b[0mVector\u001b[90m{String}\u001b[39m, \u001b[90mdl_load_path\u001b[39m::\u001b[0mVector\u001b[90m{String}\u001b[39m, \u001b[90mload_path\u001b[39m::\u001b[0mVector\u001b[90m{String}\u001b[39m, \u001b[90mconcrete_deps\u001b[39m::\u001b[0mVector\u001b[90m{Pair{Base.PkgId, UInt128}}\u001b[39m, \u001b[90msource\u001b[39m::\u001b[0mString\u001b[0m\u001b[1m)\u001b[22m\n",
      "\u001b[90m   @\u001b[39m \u001b[90mBase\u001b[39m \u001b[90m.\\\u001b[39m\u001b[90m\u001b[4mloading.jl:2049\u001b[24m\u001b[39m\n",
      " [8] top-level scope\n",
      "\u001b[90m   @\u001b[39m \u001b[90m\u001b[4mstdin:3\u001b[24m\u001b[39m\n",
      "in expression starting at c:\\Users\\zvig\\.julia\\dev\\L2Pipeline.jl\\src\\geometry_objects.jl:102\n",
      "in expression starting at c:\\Users\\zvig\\.julia\\dev\\L2Pipeline.jl\\src\\L2Pipeline.jl:7\n",
      "in expression starting at stdin:3\n"
     ]
    },
    {
     "ename": "ErrorException",
     "evalue": "Failed to precompile L2Pipeline [581c47d6-1f47-4804-be15-364ec46b6059] to \"C:\\\\Users\\\\zvig\\\\.julia\\\\compiled\\\\v1.9\\\\L2Pipeline\\\\jl_7A0C.tmp\".",
     "output_type": "error",
     "traceback": [
      "Failed to precompile L2Pipeline [581c47d6-1f47-4804-be15-364ec46b6059] to \"C:\\\\Users\\\\zvig\\\\.julia\\\\compiled\\\\v1.9\\\\L2Pipeline\\\\jl_7A0C.tmp\".\n",
      "\n",
      "Stacktrace:\n",
      "  [1] error(s::String)\n",
      "    @ Base .\\error.jl:35\n",
      "  [2] compilecache(pkg::Base.PkgId, path::String, internal_stderr::IO, internal_stdout::IO, keep_loaded_modules::Bool)\n",
      "    @ Base .\\loading.jl:2294\n",
      "  [3] compilecache\n",
      "    @ .\\loading.jl:2167 [inlined]\n",
      "  [4] _require(pkg::Base.PkgId, env::String)\n",
      "    @ Base .\\loading.jl:1805\n",
      "  [5] _require_prelocked(uuidkey::Base.PkgId, env::String)\n",
      "    @ Base .\\loading.jl:1660\n",
      "  [6] macro expansion\n",
      "    @ .\\loading.jl:1648 [inlined]\n",
      "  [7] macro expansion\n",
      "    @ .\\lock.jl:267 [inlined]\n",
      "  [8] require(into::Module, mod::Symbol)\n",
      "    @ Base .\\loading.jl:1611\n",
      "  [9] eval\n",
      "    @ .\\boot.jl:370 [inlined]\n",
      " [10] include_string(mapexpr::typeof(REPL.softscope), mod::Module, code::String, filename::String)\n",
      "    @ Base .\\loading.jl:1903\n",
      " [11] #invokelatest#2\n",
      "    @ .\\essentials.jl:819 [inlined]\n",
      " [12] invokelatest\n",
      "    @ .\\essentials.jl:816 [inlined]\n",
      " [13] (::VSCodeServer.var\"#219#220\"{VSCodeServer.NotebookRunCellArguments, String})()\n",
      "    @ VSCodeServer c:\\Users\\zvig\\.vscode\\extensions\\julialang.language-julia-1.83.2\\scripts\\packages\\VSCodeServer\\src\\serve_notebook.jl:19\n",
      " [14] withpath(f::VSCodeServer.var\"#219#220\"{VSCodeServer.NotebookRunCellArguments, String}, path::String)\n",
      "    @ VSCodeServer c:\\Users\\zvig\\.vscode\\extensions\\julialang.language-julia-1.83.2\\scripts\\packages\\VSCodeServer\\src\\repl.jl:276\n",
      " [15] notebook_runcell_request(conn::VSCodeServer.JSONRPC.JSONRPCEndpoint{Base.PipeEndpoint, Base.PipeEndpoint}, params::VSCodeServer.NotebookRunCellArguments)\n",
      "    @ VSCodeServer c:\\Users\\zvig\\.vscode\\extensions\\julialang.language-julia-1.83.2\\scripts\\packages\\VSCodeServer\\src\\serve_notebook.jl:13\n",
      " [16] dispatch_msg(x::VSCodeServer.JSONRPC.JSONRPCEndpoint{Base.PipeEndpoint, Base.PipeEndpoint}, dispatcher::VSCodeServer.JSONRPC.MsgDispatcher, msg::Dict{String, Any})\n",
      "    @ VSCodeServer.JSONRPC c:\\Users\\zvig\\.vscode\\extensions\\julialang.language-julia-1.83.2\\scripts\\packages\\JSONRPC\\src\\typed.jl:67\n",
      " [17] serve_notebook(pipename::String, outputchannel_logger::Base.CoreLogging.SimpleLogger; crashreporting_pipename::String)\n",
      "    @ VSCodeServer c:\\Users\\zvig\\.vscode\\extensions\\julialang.language-julia-1.83.2\\scripts\\packages\\VSCodeServer\\src\\serve_notebook.jl:139\n",
      " [18] top-level scope\n",
      "    @ c:\\Users\\zvig\\.vscode\\extensions\\julialang.language-julia-1.83.2\\scripts\\notebook\\notebook.jl:35"
     ]
    }
   ],
   "source": [
    "using L2Pipeline\n",
    "using HDF5\n",
    "using GLMakie"
   ]
  },
  {
   "cell_type": "code",
   "execution_count": 3,
   "metadata": {},
   "outputs": [
    {
     "data": {
      "text/plain": [
       "M3Geometry(Float32[250.6482 250.6469 … 249.90451 249.90326; 250.65012 250.64883 … 249.90652 249.90527; … ; 251.45204 251.45082 … 250.7459 250.74469; 251.45412 251.4529 … 250.74806 250.74686], Float32[62.926502 62.92733 … 63.41794 63.418797; 62.92859 62.929417 … 63.420002 63.420864; … ; 63.766632 63.767456 … 64.25292 64.25378; 63.76875 63.76957 … 64.25502 64.25587], Float32[95.52896 95.52893 … 95.509865 95.50983; 95.59672 95.59669 … 95.5777 95.57767; … ; 270.43097 270.431 … 270.44775 270.44778; 270.445 270.44504 … 270.46188 270.4619], Float32[4.176088 4.1760855 … 4.175192 4.175188; 4.1354165 4.1354136 … 4.134531 4.1345267; … ; 12.468235 12.468236 … 12.467913 12.467914; 12.509196 12.509197 … 12.508863 12.508863], Float32[66.72775 66.72854 … 67.19627 67.19709; 66.69076 66.69155 … 67.15943 67.16025; … ; 52.067207 52.068123 … 52.6105 52.61145; 52.032215 52.033134 … 52.575737 52.576683], Float32[-3.1504687f-8 -3.1491307f-8 … -6.213384f-8 -6.2115596f-8; -3.112903f-8 -3.111595f-8 … -6.1757675f-8 -6.1739634f-8; … ; 1.204616f-7 1.2047839f-7 … 9.0530186f-8 9.05527f-8; 1.2084676f-7 1.2086355f-7 … 9.090916f-8 9.093164f-8], Float32[97992.06 97991.016 … 97620.61 97618.99; 97987.234 97986.07 … 97616.53 97614.836; … ; 99962.39 99962.58 … 99918.56 99918.63; 99977.8 99977.99 … 99932.61 99932.664], Float32[0.37698856 0.4103418 … 0.8523127 0.8578722; 0.40013582 0.4337437 … 0.8713406 0.8774338; … ; 0.33079797 0.3276973 … 0.8958283 0.8994894; 0.3323857 0.32798228 … 0.8431718 0.8519678], Float32[193.51384 194.21611 … 140.94296 141.41197; 193.75206 194.1952 … 141.18028 141.69873; … ; 75.95945 75.191956 … 292.96652 295.50812; 76.69382 75.92145 … 294.09583 296.6556], Float32[0.45830178 0.4586352 … 0.44310722 0.44316912; 0.4584858 0.4588011 … 0.44302887 0.44310248; … ; 0.4368547 0.4368924 … 0.44477558 0.44437104; 0.43680832 0.43685165 … 0.44395676 0.44362468])"
      ]
     },
     "metadata": {},
     "output_type": "display_data"
    }
   ],
   "source": [
    "base_geom = get_geom_fromfile(\"C:/Lunar_Imagery_Data/M3_data/hdf5_files/targeted.hdf5\")"
   ]
  },
  {
   "cell_type": "code",
   "execution_count": 2,
   "metadata": {},
   "outputs": [
    {
     "data": {
      "text/plain": [
       "21033×27834 Matrix{Float64}:\n",
       " 0.0  0.0  0.0  0.0  0.0  0.0  0.0  0.0  …  0.0  0.0  0.0  0.0  0.0  0.0  0.0\n",
       " 0.0  0.0  0.0  0.0  0.0  0.0  0.0  0.0     0.0  0.0  0.0  0.0  0.0  0.0  0.0\n",
       " 0.0  0.0  0.0  0.0  0.0  0.0  0.0  0.0     0.0  0.0  0.0  0.0  0.0  0.0  0.0\n",
       " 0.0  0.0  0.0  0.0  0.0  0.0  0.0  0.0     0.0  0.0  0.0  0.0  0.0  0.0  0.0\n",
       " 0.0  0.0  0.0  0.0  0.0  0.0  0.0  0.0     0.0  0.0  0.0  0.0  0.0  0.0  0.0\n",
       " 0.0  0.0  0.0  0.0  0.0  0.0  0.0  0.0  …  0.0  0.0  0.0  0.0  0.0  0.0  0.0\n",
       " 0.0  0.0  0.0  0.0  0.0  0.0  0.0  0.0     0.0  0.0  0.0  0.0  0.0  0.0  0.0\n",
       " 0.0  0.0  0.0  0.0  0.0  0.0  0.0  0.0     0.0  0.0  0.0  0.0  0.0  0.0  0.0\n",
       " 0.0  0.0  0.0  0.0  0.0  0.0  0.0  0.0     0.0  0.0  0.0  0.0  0.0  0.0  0.0\n",
       " 0.0  0.0  0.0  0.0  0.0  0.0  0.0  0.0     0.0  0.0  0.0  0.0  0.0  0.0  0.0\n",
       " ⋮                        ⋮              ⋱                 ⋮              \n",
       " 0.0  0.0  0.0  0.0  0.0  0.0  0.0  0.0     0.0  0.0  0.0  0.0  0.0  0.0  0.0\n",
       " 0.0  0.0  0.0  0.0  0.0  0.0  0.0  0.0  …  0.0  0.0  0.0  0.0  0.0  0.0  0.0\n",
       " 0.0  0.0  0.0  0.0  0.0  0.0  0.0  0.0     0.0  0.0  0.0  0.0  0.0  0.0  0.0\n",
       " 0.0  0.0  0.0  0.0  0.0  0.0  0.0  0.0     0.0  0.0  0.0  0.0  0.0  0.0  0.0\n",
       " 0.0  0.0  0.0  0.0  0.0  0.0  0.0  0.0     0.0  0.0  0.0  0.0  0.0  0.0  0.0\n",
       " 0.0  0.0  0.0  0.0  0.0  0.0  0.0  0.0     0.0  0.0  0.0  0.0  0.0  0.0  0.0\n",
       " 0.0  0.0  0.0  0.0  0.0  0.0  0.0  0.0  …  0.0  0.0  0.0  0.0  0.0  0.0  0.0\n",
       " 0.0  0.0  0.0  0.0  0.0  0.0  0.0  0.0     0.0  0.0  0.0  0.0  0.0  0.0  0.0\n",
       " 0.0  0.0  0.0  0.0  0.0  0.0  0.0  0.0     0.0  0.0  0.0  0.0  0.0  0.0  0.0"
      ]
     },
     "metadata": {},
     "output_type": "display_data"
    }
   ],
   "source": [
    "ob = get_geom_fromDEM(\"C:/Lunar_Imagery_Data/M3_data/obsgeom/obsgeom_coregistered.tif\",\"C:/Lunar_Imagery_Data/LOLA_Slope/LOLA_SLOPE_qgis.tif\",\"C:/Lunar_Imagery_Data/LOLA_Slope/LOLA_2M_ASPECT.tif\")"
   ]
  },
  {
   "cell_type": "code",
   "execution_count": 5,
   "metadata": {},
   "outputs": [
    {
     "data": {
      "text/plain": [
       "true"
      ]
     },
     "metadata": {},
     "output_type": "display_data"
    }
   ],
   "source": [
    "all(ob.==0)"
   ]
  },
  {
   "cell_type": "code",
   "execution_count": null,
   "metadata": {},
   "outputs": [],
   "source": [
    "all(obs.==0)"
   ]
  },
  {
   "cell_type": "code",
   "execution_count": 3,
   "metadata": {},
   "outputs": [],
   "source": [
    "convert_to_rad!(geom)"
   ]
  },
  {
   "cell_type": "code",
   "execution_count": 12,
   "metadata": {},
   "outputs": [],
   "source": [
    "i = calc_i(geom)\n",
    "e = calc_e(geom)\n",
    "p = i .+ e\n",
    "return nothing"
   ]
  },
  {
   "cell_type": "code",
   "execution_count": 13,
   "metadata": {},
   "outputs": [
    {
     "data": {
      "text/plain": [
       "GLMakie.Screen(...)"
      ]
     },
     "execution_count": 13,
     "metadata": {},
     "output_type": "execute_result"
    },
    {
     "name": "stderr",
     "output_type": "stream",
     "text": [
      "WARNING: redefinition of constant PATH. This may fail, cause incorrect answers, or produce other errors.\n",
      "WARNING: redefinition of constant LIBPATH. This may fail, cause incorrect answers, or produce other errors.\n",
      "WARNING: redefinition of constant PATH_list. This may fail, cause incorrect answers, or produce other errors.\n",
      "WARNING: redefinition of constant LIBPATH_list. This may fail, cause incorrect answers, or produce other errors.\n",
      "\u001b[91m\u001b[1m┌ \u001b[22m\u001b[39m\u001b[91m\u001b[1mError: \u001b[22m\u001b[39mError watching manifest\n",
      "\u001b[91m\u001b[1m│ \u001b[22m\u001b[39m  exception =\n",
      "\u001b[91m\u001b[1m│ \u001b[22m\u001b[39m   cannot set type for global best_wrapper. It already has a value or is already set to a different type.\n",
      "\u001b[91m\u001b[1m│ \u001b[22m\u001b[39m   Stacktrace:\n",
      "\u001b[91m\u001b[1m│ \u001b[22m\u001b[39m    [1] top-level scope\n",
      "\u001b[91m\u001b[1m│ \u001b[22m\u001b[39m   \u001b[90m   @\u001b[39m \u001b[90mC:\\Users\\zvig\\.julia\\packages\\JLLWrappers\\pG9bm\\src\\\u001b[39m\u001b[90m\u001b[4mtoplevel_generators.jl:119\u001b[24m\u001b[39m\n",
      "\u001b[91m\u001b[1m│ \u001b[22m\u001b[39m   Revise evaluation error at C:\\Users\\zvig\\.julia\\packages\\JLLWrappers\\pG9bm\\src\\toplevel_generators.jl:119\n",
      "\u001b[91m\u001b[1m│ \u001b[22m\u001b[39m   \n",
      "\u001b[91m\u001b[1m│ \u001b[22m\u001b[39m   Stacktrace:\n",
      "\u001b[91m\u001b[1m│ \u001b[22m\u001b[39m    [1] \u001b[0m\u001b[1mmethods_by_execution!\u001b[22m\u001b[0m\u001b[1m(\u001b[22m\u001b[90mrecurse\u001b[39m::\u001b[0mAny, \u001b[90mmethodinfo\u001b[39m::\u001b[0mRevise.CodeTrackingMethodInfo, \u001b[90mdocexprs\u001b[39m::\u001b[0mDict\u001b[90m{Module, Vector{Expr}}\u001b[39m, \u001b[90mmod\u001b[39m::\u001b[0mModule, \u001b[90mex\u001b[39m::\u001b[0mExpr; \u001b[90mmode\u001b[39m::\u001b[0mSymbol, \u001b[90mdisablebp\u001b[39m::\u001b[0mBool, \u001b[90malways_rethrow\u001b[39m::\u001b[0mBool, \u001b[90mkwargs\u001b[39m::\u001b[0mBase.Pairs\u001b[90m{Symbol, Union{}, Tuple{}, NamedTuple{(), Tuple{}}}\u001b[39m\u001b[0m\u001b[1m)\u001b[22m\n",
      "\u001b[91m\u001b[1m│ \u001b[22m\u001b[39m   \u001b[90m   @\u001b[39m \u001b[33mRevise\u001b[39m \u001b[90mC:\\Users\\zvig\\.julia\\packages\\Revise\\FaTes\\src\\\u001b[39m\u001b[90m\u001b[4mlowered.jl:258\u001b[24m\u001b[39m\n",
      "\u001b[91m\u001b[1m└ \u001b[22m\u001b[39m\u001b[90m@ Revise C:\\Users\\zvig\\.julia\\packages\\Revise\\FaTes\\src\\pkgs.jl:489\u001b[39m\n"
     ]
    }
   ],
   "source": [
    "f = Figure()\n",
    "ax = Axis(f[1,1])\n",
    "\n",
    "image!(ax,p)\n",
    "\n",
    "DataInspector(f)\n",
    "display(f)"
   ]
  }
 ],
 "metadata": {
  "kernelspec": {
   "display_name": "Julia 1.9.4",
   "language": "julia",
   "name": "julia-1.9"
  },
  "language_info": {
   "file_extension": ".jl",
   "mimetype": "application/julia",
   "name": "julia",
   "version": "1.9.4"
  }
 },
 "nbformat": 4,
 "nbformat_minor": 2
}
