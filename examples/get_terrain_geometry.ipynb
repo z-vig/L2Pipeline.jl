{
 "cells": [
  {
   "cell_type": "code",
   "execution_count": 1,
   "metadata": {},
   "outputs": [],
   "source": [
    "using L2Pipeline\n",
    "using HDF5\n",
    "using GLMakie"
   ]
  },
  {
   "cell_type": "code",
   "execution_count": 2,
   "metadata": {},
   "outputs": [
    {
     "data": {
      "text/plain": [
       "\"C:/Lunar_Imagery_Data/M3_data/hdf5_files/targeted.hdf5\""
      ]
     },
     "metadata": {},
     "output_type": "display_data"
    }
   ],
   "source": [
    "#Run this cell if you would like to specify each path\n",
    "OBSGEOM_PATH = \"C:/Lunar_Imagery_Data/M3_data/targeted_phase_data/target_obsgeom_oversample.tif\"\n",
    "SLOPE_PATH = \"C:/Lunar_Imagery_Data/M3_data/targeted_phase_data/target_slope.tif\"\n",
    "ASPECT_PATH = \"C:/Lunar_Imagery_Data/M3_data/targeted_phase_data/target_aspect.tif\"\n",
    "SAVE_PATH = \"C:/Lunar_Imagery_Data/M3_data/hdf5_files/targeted.hdf5\" #Should be hdf5"
   ]
  },
  {
   "cell_type": "code",
   "execution_count": 22,
   "metadata": {},
   "outputs": [],
   "source": [
    "#Run this cell if you would like to just specify the correct formatted directory\n",
    "# PHASE_DIR = \"C:/Lunar_Imagery_Data/M3_data/global2_phase_data\"\n",
    "# SAVE_PATH = \"C:/Lunar_Imagery_Data/M3_data/hdf5_files/global2.hdf5\"\n",
    "\n",
    "# OBS_TYPE = split(basename(PHASE_DIR),\"_\")[1]\n",
    "# OBSGEOM_PATH = \"$(PHASE_DIR)/$(OBS_TYPE)_obsgeom_clip.tif\"\n",
    "# SLOPE_PATH = \"$(PHASE_DIR)/$(OBS_TYPE)_slope_resamp.tif\"\n",
    "# ASPECT_PATH = \"$(PHASE_DIR)/$(OBS_TYPE)_aspect_resamp.tif\"\n",
    "\n",
    "# return nothing"
   ]
  },
  {
   "cell_type": "code",
   "execution_count": 3,
   "metadata": {},
   "outputs": [
    {
     "data": {
      "text/plain": [
       "M3Geometry([NaN NaN … NaN NaN; NaN NaN … NaN NaN; … ; NaN NaN … 0.0 0.0; NaN NaN … 0.0 0.0], [NaN NaN … NaN NaN; NaN NaN … NaN NaN; … ; NaN NaN … 0.0 0.0; NaN NaN … 0.0 0.0], [NaN NaN … NaN NaN; NaN NaN … NaN NaN; … ; NaN NaN … 0.0 0.0; NaN NaN … 0.0 0.0], [NaN NaN … NaN NaN; NaN NaN … NaN NaN; … ; NaN NaN … 0.0 0.0; NaN NaN … 0.0 0.0], [NaN NaN … NaN NaN; NaN NaN … NaN NaN; … ; NaN NaN … 0.0 0.0; NaN NaN … 0.0 0.0], [NaN NaN … NaN NaN; NaN NaN … NaN NaN; … ; NaN NaN … 0.0 0.0; NaN NaN … 0.0 0.0], [NaN NaN … NaN NaN; NaN NaN … NaN NaN; … ; NaN NaN … 0.0 0.0; NaN NaN … 0.0 0.0], Float32[NaN NaN … NaN NaN; NaN NaN … NaN NaN; … ; NaN NaN … 4.1759477 3.6963391; NaN NaN … 5.4422836 4.778315], Float32[NaN NaN … NaN NaN; NaN NaN … NaN NaN; … ; NaN NaN … 72.79955 78.37689; NaN NaN … 71.99453 75.13932], [NaN NaN … NaN NaN; NaN NaN … NaN NaN; … ; NaN NaN … 0.0 0.0; NaN NaN … 0.0 0.0])"
      ]
     },
     "metadata": {},
     "output_type": "display_data"
    }
   ],
   "source": [
    "dem_geom = get_geom_fromDEM(OBSGEOM_PATH,SLOPE_PATH,ASPECT_PATH)"
   ]
  },
  {
   "cell_type": "code",
   "execution_count": 4,
   "metadata": {},
   "outputs": [],
   "source": [
    "convert_to_rad!(dem_geom)\n",
    "i = calc_i(dem_geom)\n",
    "e = calc_e(dem_geom)\n",
    "p = i .+ e\n",
    "return nothing"
   ]
  },
  {
   "cell_type": "code",
   "execution_count": 10,
   "metadata": {},
   "outputs": [
    {
     "name": "stdout",
     "output_type": "stream",
     "text": [
      "(0.0, 200.89915443514474)\n"
     ]
    }
   ],
   "source": [
    "# f = Figure()\n",
    "# ax = Axis(f[1,1])\n",
    "\n",
    "println(extrema(p[isfinite.(p)]))\n",
    "\n",
    "# image!(ax,p[:,end:-1:1],interpolate=false,colorrange=(54.5,125),colormap= :gist_earth)\n",
    "# Colorbar(f[1,2],limits=(54.5,125),colormap = :gist_earth)\n",
    "\n",
    "# DataInspector(f)\n",
    "# display(f)"
   ]
  },
  {
   "cell_type": "code",
   "execution_count": 8,
   "metadata": {},
   "outputs": [
    {
     "data": {
      "text/plain": [
       "11153×17216×3 Array{Float64, 3}:\n",
       "[:, :, 1] =\n",
       " NaN  NaN  NaN  NaN  NaN  NaN  NaN  NaN  …  NaN        NaN        NaN\n",
       " NaN  NaN  NaN  NaN  NaN  NaN  NaN  NaN     NaN        NaN        NaN\n",
       " NaN  NaN  NaN  NaN  NaN  NaN  NaN  NaN     NaN        NaN        NaN\n",
       " NaN  NaN  NaN  NaN  NaN  NaN  NaN  NaN     NaN        NaN        NaN\n",
       " NaN  NaN  NaN  NaN  NaN  NaN  NaN  NaN     NaN        NaN        NaN\n",
       " NaN  NaN  NaN  NaN  NaN  NaN  NaN  NaN  …  NaN        NaN        NaN\n",
       " NaN  NaN  NaN  NaN  NaN  NaN  NaN  NaN     NaN        NaN        NaN\n",
       " NaN  NaN  NaN  NaN  NaN  NaN  NaN  NaN     NaN        NaN        NaN\n",
       " NaN  NaN  NaN  NaN  NaN  NaN  NaN  NaN     NaN        NaN        NaN\n",
       " NaN  NaN  NaN  NaN  NaN  NaN  NaN  NaN     NaN        NaN        NaN\n",
       "   ⋮                        ⋮            ⋱                          ⋮\n",
       " NaN  NaN  NaN  NaN  NaN  NaN  NaN  NaN       1.12309    1.38663    2.08779\n",
       " NaN  NaN  NaN  NaN  NaN  NaN  NaN  NaN  …    1.21917    1.34057    1.96015\n",
       " NaN  NaN  NaN  NaN  NaN  NaN  NaN  NaN       1.30296    1.43695    1.86467\n",
       " NaN  NaN  NaN  NaN  NaN  NaN  NaN  NaN       1.56997    1.62871    1.92\n",
       " NaN  NaN  NaN  NaN  NaN  NaN  NaN  NaN       2.13488    1.93523    2.10087\n",
       " NaN  NaN  NaN  NaN  NaN  NaN  NaN  NaN       2.86546    2.47623    2.41411\n",
       " NaN  NaN  NaN  NaN  NaN  NaN  NaN  NaN  …    3.67935    3.31103    3.00009\n",
       " NaN  NaN  NaN  NaN  NaN  NaN  NaN  NaN       4.61584    4.17594    3.69634\n",
       " NaN  NaN  NaN  NaN  NaN  NaN  NaN  NaN       5.92017    5.4423     4.77832\n",
       "\n",
       "[:, :, 2] =\n",
       " NaN  NaN  NaN  NaN  NaN  NaN  NaN  NaN  …  NaN        NaN        NaN\n",
       " NaN  NaN  NaN  NaN  NaN  NaN  NaN  NaN     NaN        NaN        NaN\n",
       " NaN  NaN  NaN  NaN  NaN  NaN  NaN  NaN     NaN        NaN        NaN\n",
       " NaN  NaN  NaN  NaN  NaN  NaN  NaN  NaN     NaN        NaN        NaN\n",
       " NaN  NaN  NaN  NaN  NaN  NaN  NaN  NaN     NaN        NaN        NaN\n",
       " NaN  NaN  NaN  NaN  NaN  NaN  NaN  NaN  …  NaN        NaN        NaN\n",
       " NaN  NaN  NaN  NaN  NaN  NaN  NaN  NaN     NaN        NaN        NaN\n",
       " NaN  NaN  NaN  NaN  NaN  NaN  NaN  NaN     NaN        NaN        NaN\n",
       " NaN  NaN  NaN  NaN  NaN  NaN  NaN  NaN     NaN        NaN        NaN\n",
       " NaN  NaN  NaN  NaN  NaN  NaN  NaN  NaN     NaN        NaN        NaN\n",
       "   ⋮                        ⋮            ⋱                          ⋮\n",
       " NaN  NaN  NaN  NaN  NaN  NaN  NaN  NaN       1.12309    1.38663    2.08779\n",
       " NaN  NaN  NaN  NaN  NaN  NaN  NaN  NaN  …    1.21917    1.34057    1.96015\n",
       " NaN  NaN  NaN  NaN  NaN  NaN  NaN  NaN       1.30296    1.43695    1.86467\n",
       " NaN  NaN  NaN  NaN  NaN  NaN  NaN  NaN       1.56997    1.62871    1.92\n",
       " NaN  NaN  NaN  NaN  NaN  NaN  NaN  NaN       2.13488    1.93523    2.10087\n",
       " NaN  NaN  NaN  NaN  NaN  NaN  NaN  NaN       2.86546    2.47623    2.41411\n",
       " NaN  NaN  NaN  NaN  NaN  NaN  NaN  NaN  …    3.67935    3.31103    3.00009\n",
       " NaN  NaN  NaN  NaN  NaN  NaN  NaN  NaN       4.61584    4.17594    3.69634\n",
       " NaN  NaN  NaN  NaN  NaN  NaN  NaN  NaN       5.92017    5.4423     4.77832\n",
       "\n",
       "[:, :, 3] =\n",
       " NaN  NaN  NaN  NaN  NaN  NaN  NaN  NaN  …  NaN        NaN        NaN\n",
       " NaN  NaN  NaN  NaN  NaN  NaN  NaN  NaN     NaN        NaN        NaN\n",
       " NaN  NaN  NaN  NaN  NaN  NaN  NaN  NaN     NaN        NaN        NaN\n",
       " NaN  NaN  NaN  NaN  NaN  NaN  NaN  NaN     NaN        NaN        NaN\n",
       " NaN  NaN  NaN  NaN  NaN  NaN  NaN  NaN     NaN        NaN        NaN\n",
       " NaN  NaN  NaN  NaN  NaN  NaN  NaN  NaN  …  NaN        NaN        NaN\n",
       " NaN  NaN  NaN  NaN  NaN  NaN  NaN  NaN     NaN        NaN        NaN\n",
       " NaN  NaN  NaN  NaN  NaN  NaN  NaN  NaN     NaN        NaN        NaN\n",
       " NaN  NaN  NaN  NaN  NaN  NaN  NaN  NaN     NaN        NaN        NaN\n",
       " NaN  NaN  NaN  NaN  NaN  NaN  NaN  NaN     NaN        NaN        NaN\n",
       "   ⋮                        ⋮            ⋱                          ⋮\n",
       " NaN  NaN  NaN  NaN  NaN  NaN  NaN  NaN       2.24618    2.77327    4.17557\n",
       " NaN  NaN  NaN  NaN  NaN  NaN  NaN  NaN  …    2.43833    2.68113    3.92029\n",
       " NaN  NaN  NaN  NaN  NaN  NaN  NaN  NaN       2.60592    2.8739     3.72933\n",
       " NaN  NaN  NaN  NaN  NaN  NaN  NaN  NaN       3.13995    3.25741    3.83999\n",
       " NaN  NaN  NaN  NaN  NaN  NaN  NaN  NaN       4.26975    3.87045    4.20174\n",
       " NaN  NaN  NaN  NaN  NaN  NaN  NaN  NaN       5.73092    4.95245    4.82822\n",
       " NaN  NaN  NaN  NaN  NaN  NaN  NaN  NaN  …    7.3587     6.62207    6.00018\n",
       " NaN  NaN  NaN  NaN  NaN  NaN  NaN  NaN       9.23167    8.35187    7.39268\n",
       " NaN  NaN  NaN  NaN  NaN  NaN  NaN  NaN      11.8403    10.8846     9.55664"
      ]
     },
     "metadata": {},
     "output_type": "display_data"
    }
   ],
   "source": [
    "terr_geom = cat(i,e,p,dims=3)\n",
    "\n",
    "# h5open(SAVE_PATH,\"r+\") do h5\n",
    "#     delete_object(h5,\"Backplanes/TerrainGeometry_2m\")\n",
    "# end\n",
    "\n",
    "h5open(SAVE_PATH,\"r+\") do h5\n",
    "    h5[\"Backplanes/TerrainGeometry_2m\"] = terr_geom\n",
    "end"
   ]
  }
 ],
 "metadata": {
  "kernelspec": {
   "display_name": "Julia 1.9.4",
   "language": "julia",
   "name": "julia-1.9"
  },
  "language_info": {
   "file_extension": ".jl",
   "mimetype": "application/julia",
   "name": "julia",
   "version": "1.9.4"
  }
 },
 "nbformat": 4,
 "nbformat_minor": 2
}
